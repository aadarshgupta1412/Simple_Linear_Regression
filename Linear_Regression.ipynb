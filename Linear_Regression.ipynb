{
 "cells": [
  {
   "cell_type": "code",
   "execution_count": 1,
   "id": "1d0e0ddb-d543-4319-bfac-5d7a1f221bf5",
   "metadata": {},
   "outputs": [],
   "source": [
    "#import numpy for linear algebra operations\n",
    "import numpy as np\n",
    "#import pandas library for data processing operations I/O in CSV file\n",
    "import pandas as pd\n",
    "#import matplotlib for visualizing the results\n",
    "import matplotlib.pyplot as plt\n",
    "import os"
   ]
  },
  {
   "cell_type": "code",
   "execution_count": 2,
   "id": "dd65eb89-1059-4296-a893-d5cc63e02a01",
   "metadata": {},
   "outputs": [
    {
     "name": "stdout",
     "output_type": "stream",
     "text": [
      "    YearsExperience  Salary\n",
      "0               1.1   39343\n",
      "1               1.3   46205\n",
      "2               1.5   37731\n",
      "3               2.0   43525\n",
      "4               2.2   39891\n",
      "5               2.9   56642\n",
      "6               3.0   60150\n",
      "7               3.2   54445\n",
      "8               3.2   64445\n",
      "9               3.7   57189\n",
      "10              3.9   63218\n",
      "11              4.0   55794\n",
      "12              4.0   56957\n",
      "13              4.1   57081\n",
      "14              4.5   61111\n",
      "15              4.9   67938\n",
      "16              5.1   66029\n",
      "17              5.3   83088\n",
      "18              5.9   81363\n",
      "19              6.0   93940\n",
      "20              6.8   91738\n",
      "21              7.1   98273\n",
      "22              7.9  101302\n",
      "23              8.2  113812\n",
      "24              8.7  109431\n",
      "25              9.0  105582\n",
      "26              9.5  116969\n",
      "27              9.6  112635\n",
      "28             10.3  122391\n",
      "29             10.5  121872\n"
     ]
    }
   ],
   "source": [
    "#with open('salary_data.csv', 'r') as file:\n",
    "salary = pd.read_csv('salary_data.csv')    \n",
    "print(salary)"
   ]
  },
  {
   "cell_type": "code",
   "execution_count": 3,
   "id": "a5e15936-9680-49b6-9ab9-41ee92526a99",
   "metadata": {},
   "outputs": [
    {
     "name": "stdout",
     "output_type": "stream",
     "text": [
      "[[ 1.1]\n",
      " [ 1.3]\n",
      " [ 1.5]\n",
      " [ 2. ]\n",
      " [ 2.2]\n",
      " [ 2.9]\n",
      " [ 3. ]\n",
      " [ 3.2]\n",
      " [ 3.2]\n",
      " [ 3.7]\n",
      " [ 3.9]\n",
      " [ 4. ]\n",
      " [ 4. ]\n",
      " [ 4.1]\n",
      " [ 4.5]\n",
      " [ 4.9]\n",
      " [ 5.1]\n",
      " [ 5.3]\n",
      " [ 5.9]\n",
      " [ 6. ]\n",
      " [ 6.8]\n",
      " [ 7.1]\n",
      " [ 7.9]\n",
      " [ 8.2]\n",
      " [ 8.7]\n",
      " [ 9. ]\n",
      " [ 9.5]\n",
      " [ 9.6]\n",
      " [10.3]\n",
      " [10.5]]\n",
      "[ 39343  46205  37731  43525  39891  56642  60150  54445  64445  57189\n",
      "  63218  55794  56957  57081  61111  67938  66029  83088  81363  93940\n",
      "  91738  98273 101302 113812 109431 105582 116969 112635 122391 121872]\n"
     ]
    }
   ],
   "source": [
    "X = salary.iloc[:,0].values\n",
    "X = np.reshape(X,newshape=(-1,1))\n",
    "Y = salary.iloc[:,1].values\n",
    "print(X)\n",
    "print(Y)"
   ]
  },
  {
   "cell_type": "code",
   "execution_count": 4,
   "id": "149b8551-717e-40ac-be63-ee96ecdf71ec",
   "metadata": {},
   "outputs": [],
   "source": [
    "from sklearn.model_selection import train_test_split\n",
    "X_train, X_test, Y_train, Y_test = train_test_split(X,Y,test_size = 0.3, random_state=0)"
   ]
  },
  {
   "cell_type": "code",
   "execution_count": 5,
   "id": "1a3ef330-2ccf-451d-9014-e9e8a0aaa094",
   "metadata": {},
   "outputs": [
    {
     "name": "stdout",
     "output_type": "stream",
     "text": [
      "[[ 7.9]\n",
      " [ 2.9]\n",
      " [ 5.1]\n",
      " [ 3.2]\n",
      " [ 4.5]\n",
      " [ 8.2]\n",
      " [ 6.8]\n",
      " [ 1.3]\n",
      " [10.5]\n",
      " [ 3. ]\n",
      " [ 2.2]\n",
      " [ 5.9]\n",
      " [ 6. ]\n",
      " [ 3.7]\n",
      " [ 3.2]\n",
      " [ 9. ]\n",
      " [ 2. ]\n",
      " [ 1.1]\n",
      " [ 7.1]\n",
      " [ 4.9]\n",
      " [ 4. ]] \n",
      "\n",
      "[[ 1.5]\n",
      " [10.3]\n",
      " [ 4.1]\n",
      " [ 3.9]\n",
      " [ 9.5]\n",
      " [ 8.7]\n",
      " [ 9.6]\n",
      " [ 4. ]\n",
      " [ 5.3]] \n",
      "\n",
      "[101302  56642  66029  64445  61111 113812  91738  46205 121872  60150\n",
      "  39891  81363  93940  57189  54445 105582  43525  39343  98273  67938\n",
      "  56957] \n",
      "\n",
      "[ 37731 122391  57081  63218 116969 109431 112635  55794  83088] \n",
      "\n"
     ]
    }
   ],
   "source": [
    "print(X_train, \"\\n\")\n",
    "print(X_test, \"\\n\")\n",
    "print(Y_train, \"\\n\")\n",
    "print(Y_test, \"\\n\")"
   ]
  },
  {
   "cell_type": "code",
   "execution_count": 6,
   "id": "372f12af-c240-41d9-a7d8-ce2e2106120e",
   "metadata": {},
   "outputs": [
    {
     "data": {
      "text/plain": [
       "LinearRegression()"
      ]
     },
     "execution_count": 6,
     "metadata": {},
     "output_type": "execute_result"
    }
   ],
   "source": [
    "from sklearn.linear_model import LinearRegression\n",
    "\n",
    "lin_reg = LinearRegression()\n",
    "lin_reg.fit(X_train,Y_train)\n"
   ]
  },
  {
   "cell_type": "code",
   "execution_count": 7,
   "id": "741e909d-79bb-4880-8bc7-25787b330453",
   "metadata": {},
   "outputs": [
    {
     "name": "stdout",
     "output_type": "stream",
     "text": [
      "The linear soltion is y = mx+c where :\n",
      "m = 9360.261286193656\n",
      "c = 26777.391341197625\n"
     ]
    }
   ],
   "source": [
    "print('The linear soltion is y = mx+c where :')\n",
    "print('m =', lin_reg.coef_[0])\n",
    "print('c =', lin_reg.intercept_)\n"
   ]
  },
  {
   "cell_type": "code",
   "execution_count": 8,
   "id": "0dd8cb6f-1951-44d5-b7b1-9db9e6d27b87",
   "metadata": {},
   "outputs": [
    {
     "name": "stdout",
     "output_type": "stream",
     "text": [
      "The predicted values for train data are:\n",
      "[100723.45550213  53922.14907116  74514.72390079  56730.22745702\n",
      "  68898.56712907 103531.53388799  90427.16808731  38945.73101325\n",
      " 125060.13484623  54858.17519978  47369.96617082  82002.93292974\n",
      "  82938.95905836  61410.35810011  56730.22745702 111019.74291694\n",
      "  45497.91391358  37073.67875601  93235.24647317  72642.67164355\n",
      "  64218.43648597] \n",
      "\n",
      "The predicted values for test data are:\n",
      "[ 40817.78327049 123188.08258899  65154.46261459  63282.41035735\n",
      " 115699.87356004 108211.66453108 116635.89968866  64218.43648597\n",
      "  76386.77615802] \n",
      "\n",
      "The actual values for test data are:\n",
      "[ 37731 122391  57081  63218 116969 109431 112635  55794  83088]\n"
     ]
    }
   ],
   "source": [
    "print('The predicted values for train data are:')\n",
    "Y_train_pred = lin_reg.predict(X_train)\n",
    "print(Y_train_pred,'\\n')\n",
    "Y_predicted = lin_reg.predict(X_test)\n",
    "print('The predicted values for test data are:')\n",
    "print(Y_predicted, '\\n')\n",
    "print('The actual values for test data are:')\n",
    "print(Y_test)"
   ]
  },
  {
   "cell_type": "code",
   "execution_count": 9,
   "id": "24999ec9-8287-4b5c-8d89-6dd01e0c931a",
   "metadata": {},
   "outputs": [
    {
     "data": {
      "image/png": "[encoded data removed]",
      "text/plain": [
       "<Figure size 432x288 with 1 Axes>"
      ]
     },
     "metadata": {
      "needs_background": "light"
     },
     "output_type": "display_data"
    }
   ],
   "source": [
    "#Visualizing Training data vs prediction\n",
    "plt.scatter(X_train,Y_train,color='red')\n",
    "plt.plot(X_train,Y_train_pred,'b-')\n",
    "plt.xlabel('Experience (in years)')\n",
    "plt.ylabel('Salary')\n",
    "plt.title('Salary vs Experience (Train)')\n",
    "plt.show()"
   ]
  },
  {
   "cell_type": "code",
   "execution_count": 10,
   "id": "a7851722-54d6-410c-8b8d-25ea34910015",
   "metadata": {},
   "outputs": [
    {
     "data": {
      "image/png": "[encoded data removed]",
      "text/plain": [
       "<Figure size 432x288 with 1 Axes>"
      ]
     },
     "metadata": {
      "needs_background": "light"
     },
     "output_type": "display_data"
    }
   ],
   "source": [
    "#Visualizing Training data vs prediction\n",
    "plt.scatter(X_test,Y_test,color='red')\n",
    "plt.plot(X_test,Y_predicted,'b-')\n",
    "plt.xlabel('Experience (in years)')\n",
    "plt.ylabel('Salary')\n",
    "plt.title('Salary vs Experience (Test)')\n",
    "plt.show()"
   ]
  },
  {
   "cell_type": "code",
   "execution_count": 11,
   "id": "7868c72d-921a-462e-ab35-67b191018342",
   "metadata": {},
   "outputs": [
    {
     "name": "stdout",
     "output_type": "stream",
     "text": [
      "Predicted Salary:  96979\n"
     ]
    }
   ],
   "source": [
    "#Testing for Experience = 7.5 years\n",
    "pred = lin_reg.predict([[7.5]])\n",
    "print(\"Predicted Salary: \", round(pred[0]))"
   ]
  },
  {
   "cell_type": "code",
   "execution_count": 22,
   "id": "2a52658a-7372-4734-a35c-5c882b0ea237",
   "metadata": {},
   "outputs": [
    {
     "name": "stdout",
     "output_type": "stream",
     "text": [
      "Linear regression model performance evaluation:\n",
      " - RMSE: $4834.26\n",
      " - RSE: $5481.54\n"
     ]
    }
   ],
   "source": [
    "print(\"Linear regression model performance evaluation:\")\n",
    "\n",
    "from sklearn.metrics import mean_squared_error\n",
    "\n",
    "model_rmse = mean_squared_error(\n",
    "    y_true=Y_test[:], \n",
    "    y_pred=Y_predicted,\n",
    "    squared=False\n",
    ")\n",
    "print(\" - RMSE: ${}\".format(round(model_rmse, 2)))\n",
    "\n",
    "model_rse = np.sqrt(\n",
    "    np.sum(\n",
    "        (Y_test[:] - Y_predicted)**2\n",
    "    ) / (len(Y_test[:])-(len(lin_reg.coef_) + 1))\n",
    ")\n",
    "print(\" - RSE: ${}\".format(round(model_rse, 2)))"
   ]
  },
  {
   "cell_type": "code",
   "execution_count": null,
   "id": "cb6be888-3a0d-4f4e-afb7-1a0791061695",
   "metadata": {},
   "outputs": [],
   "source": []
  }
 ],
 "metadata": {
  "kernelspec": {
   "display_name": "Python 3",
   "language": "python",
   "name": "python3"
  },
  "language_info": {
   "codemirror_mode": {
    "name": "ipython",
    "version": 3
   },
   "file_extension": ".py",
   "mimetype": "text/x-python",
   "name": "python",
   "nbconvert_exporter": "python",
   "pygments_lexer": "ipython3",
   "version": "3.9.5"
  }
 },
 "nbformat": 4,
 "nbformat_minor": 5
}
